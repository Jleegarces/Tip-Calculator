{
 "cells": [
  {
   "cell_type": "code",
   "execution_count": null,
   "id": "207da5f9",
   "metadata": {},
   "outputs": [
    {
     "name": "stdout",
     "output_type": "stream",
     "text": [
      "welcome to the tip calculator!\n"
     ]
    }
   ],
   "source": [
    "print('welcome to the tip calculator!')\n",
    "bill = float(input('how much was your bill? $'))\n",
    "tip = (int(input(\"what percent tip would you like to add? 10, 12, 15, 20: \")))\n",
    "people = int(input(\"How many people to split the bill?\"))\n",
    "bill_with_tip = tip / 100 * bill + bill \n",
    "\n",
    "if people == int(0):\n",
    "  print(f'your bill with tip:{bill_with_tip}') \n",
    "else: \n",
    "  print(f'your bill with tip: {bill_with_tip}')\n",
    "  each_bill = bill_with_tip / people\n",
    "  print(f' your split check: ${each_bill}')"
   ]
  },
  {
   "cell_type": "code",
   "execution_count": null,
   "id": "aa143a36",
   "metadata": {},
   "outputs": [],
   "source": []
  }
 ],
 "metadata": {
  "kernelspec": {
   "display_name": "Python 3",
   "language": "python",
   "name": "python3"
  },
  "language_info": {
   "codemirror_mode": {
    "name": "ipython",
    "version": 3
   },
   "file_extension": ".py",
   "mimetype": "text/x-python",
   "name": "python",
   "nbconvert_exporter": "python",
   "pygments_lexer": "ipython3",
   "version": "3.8.8"
  }
 },
 "nbformat": 4,
 "nbformat_minor": 5
}
